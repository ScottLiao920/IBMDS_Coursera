{
 "cells": [
  {
   "cell_type": "markdown",
   "id": "b4dfeca0-411c-4dee-8091-463c54833134",
   "metadata": {},
   "source": [
    "# Data Science Tools and Ecosystem"
   ]
  },
  {
   "cell_type": "markdown",
   "id": "53c1dfa9-c7d5-4e37-8d75-d4c160f4890c",
   "metadata": {},
   "source": [
    "In this notebook, Data Science Tools and Ecosystem are summarized.\n",
    "  "
   ]
  },
  {
   "cell_type": "markdown",
   "id": "241ac3ac-0e5d-44ef-961a-498d9154e88d",
   "metadata": {},
   "source": [
    "**Objectives:**\n",
    "* List popular languages\n",
    "* List popular libraries\n",
    "* List popular tools"
   ]
  },
  {
   "cell_type": "markdown",
   "id": "ab4f0726-39bc-4c2c-84f2-392c99420d0d",
   "metadata": {},
   "source": [
    "Some of the popular languages that Data Scientists use are:\n",
    "1. Python\n",
    "2. R\n",
    "3. Scala"
   ]
  },
  {
   "cell_type": "markdown",
   "id": "bfff6b5b-10be-48e9-af13-19b2c63c8d4c",
   "metadata": {},
   "source": [
    "Some of the commonly used libraries used by Data Scientists include:\n",
    "1. Pandas\n",
    "2. Matplotlib\n",
    "3. Keras"
   ]
  },
  {
   "cell_type": "markdown",
   "id": "5d0194f4-0519-4479-ba9e-02fd9daf7fde",
   "metadata": {},
   "source": [
    "| Data Science Tools |\n",
    "| -------- |\n",
    "| RStudio |\n",
    "| Anaconda |\n",
    "| VSCode |"
   ]
  },
  {
   "cell_type": "markdown",
   "id": "ed60c064-5e87-43d0-a0cd-ea4af7f78786",
   "metadata": {},
   "source": [
    "### Below are a few examples of evaluating arithmetic expressions in Python.\n"
   ]
  },
  {
   "cell_type": "code",
   "execution_count": 1,
   "id": "31e3513f-0ac1-45f1-844d-fd71d74c34da",
   "metadata": {},
   "outputs": [
    {
     "data": {
      "text/plain": [
       "17"
      ]
     },
     "execution_count": 1,
     "metadata": {},
     "output_type": "execute_result"
    }
   ],
   "source": [
    "# this is a simple arithmetic expression to mutiply then add integers\n",
    "(3*4)+5"
   ]
  },
  {
   "cell_type": "code",
   "execution_count": 2,
   "id": "c334f321-2e6b-4cd3-b32c-75032e332cda",
   "metadata": {},
   "outputs": [
    {
     "data": {
      "text/plain": [
       "3.3333333333333335"
      ]
     },
     "execution_count": 2,
     "metadata": {},
     "output_type": "execute_result"
    }
   ],
   "source": [
    "# this will convert 200 minutes to hours by diving by 60\n",
    "200/60"
   ]
  },
  {
   "cell_type": "markdown",
   "id": "1628dd81-a821-42bd-99cd-da519895a748",
   "metadata": {},
   "source": [
    "## Author\n",
    "Liao Chang"
   ]
  },
  {
   "cell_type": "code",
   "execution_count": null,
   "id": "7f108620-a15c-4c28-8230-2fb99b685708",
   "metadata": {},
   "outputs": [],
   "source": []
  }
 ],
 "metadata": {
  "kernelspec": {
   "display_name": "Python 3 (ipykernel)",
   "language": "python",
   "name": "python3"
  },
  "language_info": {
   "codemirror_mode": {
    "name": "ipython",
    "version": 3
   },
   "file_extension": ".py",
   "mimetype": "text/x-python",
   "name": "python",
   "nbconvert_exporter": "python",
   "pygments_lexer": "ipython3",
   "version": "3.9.12"
  }
 },
 "nbformat": 4,
 "nbformat_minor": 5
}
